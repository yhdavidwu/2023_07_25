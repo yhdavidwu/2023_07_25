{
 "cells": [
  {
   "cell_type": "code",
   "execution_count": 7,
   "metadata": {},
   "outputs": [
    {
     "name": "stdout",
     "output_type": "stream",
     "text": [
      "1  2  3  4  5   \n",
      "1  2  3  4  5   \n",
      "程式結束\n"
     ]
    }
   ],
   "source": [
    "#執行5次\n",
    "#列印出1~5\n",
    "for i in range(1,6):\n",
    "    print(i, end = '  ')\n",
    "\n",
    "print(\" \")\n",
    "\n",
    "#while\n",
    "count = 1\n",
    "while count <= 5:\n",
    "    print(count, end = '  ')\n",
    "    count += 1\n",
    "print(\" \")\n",
    "print(\"程式結束\")"
   ]
  },
  {
   "cell_type": "code",
   "execution_count": 9,
   "metadata": {},
   "outputs": [
    {
     "name": "stdout",
     "output_type": "stream",
     "text": [
      "恭喜! 已經存夠了，存了5個月，總存款為30000元\n"
     ]
    }
   ],
   "source": [
    "#小明想要存錢買一輛機車，機車每輛30000元，他將每月存的錢輸入，當存款足購買機車時，就顯示提示訊息告知。\n",
    "moto_price = 30000\n",
    "deposit = 0\n",
    "month = 0\n",
    "while(deposit < 30000):\n",
    "    month += 1\n",
    "    save = int(input(f\"請輸入{month}月份的存款是:\"))\n",
    "    deposit += save\n",
    "\n",
    "print(f\"恭喜! 已經存夠了，存了{month}個月，總存款為{deposit}元\")"
   ]
  },
  {
   "cell_type": "code",
   "execution_count": 10,
   "metadata": {},
   "outputs": [
    {
     "name": "stdout",
     "output_type": "stream",
     "text": [
      "1  2  3  4  5   \n",
      "程式結束\n"
     ]
    }
   ],
   "source": [
    "#使用break跳出迴圈\n",
    "count = 1\n",
    "while True:\n",
    "    print(count, end = '  ')\n",
    "    count += 1\n",
    "    if count > 5:\n",
    "        break\n",
    "print(\" \")\n",
    "print(\"程式結束\")"
   ]
  },
  {
   "cell_type": "code",
   "execution_count": 11,
   "metadata": {},
   "outputs": [
    {
     "name": "stdout",
     "output_type": "stream",
     "text": [
      "恭喜! 已經存夠了，存了5個月，總存款為32500元\n"
     ]
    }
   ],
   "source": [
    "#使用break跳出迴圈\n",
    "moto_price = 30000\n",
    "deposit = 0\n",
    "month = 0\n",
    "while True:\n",
    "    month += 1\n",
    "    save = int(input(f\"請輸入{month}月份的存款是:\"))\n",
    "    deposit += save\n",
    "    if deposit >= 30000:\n",
    "        break\n",
    "\n",
    "print(f\"恭喜! 已經存夠了，存了{month}個月，總存款為{deposit}元\")"
   ]
  },
  {
   "cell_type": "code",
   "execution_count": 14,
   "metadata": {},
   "outputs": [
    {
     "name": "stdout",
     "output_type": "stream",
     "text": [
      "輸入的次數是:4，所有輸入的正偶數的加總是:6\n"
     ]
    }
   ],
   "source": [
    "#請設計一個程式，讓使用者輸入數值，只有加總正偶數值，不加總正奇數值，如果輸入負數，結束程式。\n",
    "#也可採用\n",
    "sum = 0\n",
    "num = 0\n",
    "while True:\n",
    "    \n",
    "    input_value = int(input(f\"請輸入第{num+1}個數值:\"))\n",
    "    if input_value < 0:\n",
    "        break\n",
    "    num += 1\n",
    "    #elif input_value % 2 ==0:\n",
    "    #    sum += input_value\n",
    "    if input_value % 2 == 1:\n",
    "        continue\n",
    "    sum += input_value\n",
    "    #num += 1\n",
    "    \n",
    "    \n",
    "print(f\"輸入的次數是:{num}，所有輸入的正偶數的加總是:{sum}\")\n"
   ]
  }
 ],
 "metadata": {
  "kernelspec": {
   "display_name": "Python 3",
   "language": "python",
   "name": "python3"
  },
  "language_info": {
   "codemirror_mode": {
    "name": "ipython",
    "version": 3
   },
   "file_extension": ".py",
   "mimetype": "text/x-python",
   "name": "python",
   "nbconvert_exporter": "python",
   "pygments_lexer": "ipython3",
   "version": "3.10.12"
  },
  "orig_nbformat": 4
 },
 "nbformat": 4,
 "nbformat_minor": 2
}
