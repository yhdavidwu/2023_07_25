{
 "cells": [
  {
   "cell_type": "code",
   "execution_count": null,
   "metadata": {},
   "outputs": [],
   "source": [
    "import pandas as pd\n",
    "df = pd.read_csv('學生成績.csv')\n",
    "\n",
    "#使用subscript搜尋Series value\n",
    "chinese_s = df[\"國文\"]\n",
    "chinese_s"
   ]
  },
  {
   "cell_type": "code",
   "execution_count": 5,
   "metadata": {},
   "outputs": [
    {
     "data": {
      "text/plain": [
       "0      75\n",
       "1      77\n",
       "2      97\n",
       "3      64\n",
       "4      65\n",
       "7      78\n",
       "8      77\n",
       "9      61\n",
       "10     96\n",
       "11     69\n",
       "12     96\n",
       "13     68\n",
       "15     87\n",
       "16     80\n",
       "17    100\n",
       "19     88\n",
       "20     90\n",
       "22     97\n",
       "23     72\n",
       "24     71\n",
       "27     96\n",
       "31     62\n",
       "32     63\n",
       "33     90\n",
       "34     73\n",
       "35     95\n",
       "37     78\n",
       "38     89\n",
       "39     71\n",
       "40     74\n",
       "41     85\n",
       "43     86\n",
       "44     80\n",
       "45     79\n",
       "46     74\n",
       "47     87\n",
       "49     69\n",
       "Name: 國文, dtype: int64"
      ]
     },
     "execution_count": 5,
     "metadata": {},
     "output_type": "execute_result"
    }
   ],
   "source": [
    "#國文及格\n",
    "chinese_s[chinese_s >= 60 ]\n"
   ]
  },
  {
   "cell_type": "code",
   "execution_count": 7,
   "metadata": {},
   "outputs": [
    {
     "data": {
      "text/plain": [
       "2     59\n",
       "9     59\n",
       "16    54\n",
       "19    58\n",
       "24    59\n",
       "25    52\n",
       "26    57\n",
       "27    57\n",
       "28    56\n",
       "31    51\n",
       "32    54\n",
       "39    59\n",
       "42    57\n",
       "45    51\n",
       "Name: 數學, dtype: int64"
      ]
     },
     "execution_count": 7,
     "metadata": {},
     "output_type": "execute_result"
    }
   ],
   "source": [
    "#數學及格\n",
    "math_s = df[\"數學\"]\n",
    "math_s[math_s < 60]"
   ]
  }
 ],
 "metadata": {
  "kernelspec": {
   "display_name": "Python 3",
   "language": "python",
   "name": "python3"
  },
  "language_info": {
   "codemirror_mode": {
    "name": "ipython",
    "version": 3
   },
   "file_extension": ".py",
   "mimetype": "text/x-python",
   "name": "python",
   "nbconvert_exporter": "python",
   "pygments_lexer": "ipython3",
   "version": "3.10.12"
  },
  "orig_nbformat": 4
 },
 "nbformat": 4,
 "nbformat_minor": 2
}
