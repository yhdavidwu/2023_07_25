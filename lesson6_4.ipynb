{
 "cells": [
  {
   "cell_type": "code",
   "execution_count": null,
   "metadata": {},
   "outputs": [],
   "source": [
    "import random\n",
    "min = 1\n",
    "max = 100\n",
    "target = random.randint(min,max)\n",
    "count = 0\n",
    "print(\"============猜數字遊戲============\\n\\n\")\n",
    "while True:\n",
    "    keyin = int(input(f\"猜數字的範圍{min}~{max}: \"))\n",
    "    count += 1\n",
    "    if keyin >= min and keyin <= max:\n",
    "        if(keyin == target):\n",
    "            print(f\"賓果!猜對了，答案是:{keyin}\")\n",
    "            print(f\"您總共猜了{count}次\")\n",
    "            break\n",
    "        elif(keyin > target):\n",
    "            print(f\"猜錯了，再小一點，您已經猜了{count}次\")\n",
    "            max = keyin-1\n",
    "        elif(keyin < target):\n",
    "            print(f\"猜錯了，再大一點，您已經猜了{count}次\")\n",
    "            min = keyin+1\n",
    "    else:\n",
    "        print(\"超出範圍\")\n",
    "\n",
    "print(\"Game Over!\")"
   ]
  },
  {
   "cell_type": "code",
   "execution_count": 4,
   "metadata": {},
   "outputs": [
    {
     "name": "stdout",
     "output_type": "stream",
     "text": [
      "42\n",
      "============猜數字遊戲============\n",
      "\n",
      "\n",
      "賓果!猜對了，答案是:42\n",
      "您總共猜了1次\n",
      "遊戲結束\n"
     ]
    }
   ],
   "source": [
    "import random\n",
    "while True:\n",
    "    min = 1\n",
    "    max = 100\n",
    "    target = random.randint(min,max)\n",
    "    print(target)\n",
    "    count = 0\n",
    "    print(\"============猜數字遊戲============\\n\\n\")\n",
    "    while True:\n",
    "        keyin = int(input(f\"猜數字的範圍{min}~{max}: \"))\n",
    "        count += 1\n",
    "        if keyin >= min and keyin <= max:\n",
    "            if(keyin == target):\n",
    "                print(f\"賓果!猜對了，答案是:{keyin}\")\n",
    "                print(f\"您總共猜了{count}次\")\n",
    "                break\n",
    "            elif(keyin > target):\n",
    "                print(f\"猜錯了，再小一點，您已經猜了{count}次\")\n",
    "                max = keyin-1\n",
    "            elif(keyin < target):\n",
    "                print(f\"猜錯了，再大一點，您已經猜了{count}次\")\n",
    "                min = keyin+1\n",
    "        else:\n",
    "            print(\"超出範圍\")\n",
    "    play_again = input(\"您還要繼續嗎?(y or n):\")\n",
    "    if play_again == 'n':\n",
    "            break\n",
    "    else:\n",
    "            continue\n",
    "    \n",
    "print(\"遊戲結束\")"
   ]
  },
  {
   "cell_type": "code",
   "execution_count": 7,
   "metadata": {},
   "outputs": [],
   "source": [
    "#自訂的function\n",
    "def play_game():    \n",
    "    min = 1\n",
    "    max = 100\n",
    "    target = random.randint(min,max)\n",
    "    print(target)\n",
    "    count = 0\n",
    "    print(\"============猜數字遊戲============\\n\\n\")\n",
    "    while True:\n",
    "        keyin = int(input(f\"猜數字的範圍{min}~{max}: \"))\n",
    "        count += 1\n",
    "        if keyin >= min and keyin <= max:\n",
    "            if(keyin == target):\n",
    "                print(f\"賓果!猜對了，答案是:{keyin}\")\n",
    "                print(f\"您總共猜了{count}次\")\n",
    "                break\n",
    "            elif(keyin > target):\n",
    "                print(f\"猜錯了，再小一點，您已經猜了{count}次\")\n",
    "                max = keyin-1\n",
    "            elif(keyin < target):\n",
    "                print(f\"猜錯了，再大一點，您已經猜了{count}次\")\n",
    "                min = keyin+1\n",
    "        else:\n",
    "            print(\"超出範圍\")"
   ]
  }
 ],
 "metadata": {
  "kernelspec": {
   "display_name": "Python 3",
   "language": "python",
   "name": "python3"
  },
  "language_info": {
   "codemirror_mode": {
    "name": "ipython",
    "version": 3
   },
   "file_extension": ".py",
   "mimetype": "text/x-python",
   "name": "python",
   "nbconvert_exporter": "python",
   "pygments_lexer": "ipython3",
   "version": "3.10.12"
  },
  "orig_nbformat": 4
 },
 "nbformat": 4,
 "nbformat_minor": 2
}
