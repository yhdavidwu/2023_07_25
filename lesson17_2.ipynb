{
 "cells": [
  {
   "cell_type": "code",
   "execution_count": null,
   "metadata": {},
   "outputs": [],
   "source": [
    "import pandas as pd\n",
    "df = pd.read_csv('學生成績.csv')\n",
    "display(df)\n",
    "\n",
    "#視覺美化資料表\n",
    "def less60(v,prop=''):\n",
    "    return prop if v < 60 else None\n",
    "\n",
    "df.style\\\n",
    ".map(less60,prop='color:red;',subset=[\"國文\",\"英文\",\"數學\",\"地理\",\"歷史\",\"平均\"])\\\n",
    ".format(precision=2,subset=[\"平均\"])"
   ]
  }
 ],
 "metadata": {
  "kernelspec": {
   "display_name": "Python 3",
   "language": "python",
   "name": "python3"
  },
  "language_info": {
   "codemirror_mode": {
    "name": "ipython",
    "version": 3
   },
   "file_extension": ".py",
   "mimetype": "text/x-python",
   "name": "python",
   "nbconvert_exporter": "python",
   "pygments_lexer": "ipython3",
   "version": "3.10.12"
  },
  "orig_nbformat": 4
 },
 "nbformat": 4,
 "nbformat_minor": 2
}
