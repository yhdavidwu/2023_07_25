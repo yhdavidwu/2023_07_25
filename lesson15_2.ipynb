{
 "cells": [
  {
   "cell_type": "code",
   "execution_count": 6,
   "metadata": {},
   "outputs": [
    {
     "data": {
      "text/plain": [
       "[2, 6, 10, 14, 18]"
      ]
     },
     "execution_count": 6,
     "metadata": {},
     "output_type": "execute_result"
    }
   ],
   "source": [
    "#建立list 矩陣運算\n",
    "a = [1, 3, 5, 7, 9]\n",
    "a * 2\n",
    "\n",
    "b = [2, 4, 6, 8, 10]\n",
    "a + b\n",
    "\n",
    "result = []\n",
    "for i in range(5):\n",
    "    result.append(a[i] + b[i])\n",
    "result1 = []\n",
    "for i in range(5):\n",
    "    result1.append(a[i] * b[i])\n",
    "result3 = []\n",
    "for i in range(5):\n",
    "    result3.append(a[i] * 2)\n",
    "\n",
    "result\n",
    "result1\n",
    "result3"
   ]
  },
  {
   "cell_type": "code",
   "execution_count": 9,
   "metadata": {},
   "outputs": [
    {
     "data": {
      "text/plain": [
       "array([ 3,  7, 11, 15, 19])"
      ]
     },
     "execution_count": 9,
     "metadata": {},
     "output_type": "execute_result"
    }
   ],
   "source": [
    "import numpy\n",
    "#透過list建立ndArray\n",
    "\n",
    "a_array = numpy.array([1, 3, 5, 7, 9])\n",
    "a_array * 2\n",
    "\n",
    "b_array = numpy.array([2, 4, 6, 8, 10])\n",
    "\n",
    "a_array + b_array"
   ]
  },
  {
   "cell_type": "code",
   "execution_count": 10,
   "metadata": {},
   "outputs": [
    {
     "data": {
      "text/plain": [
       "array([ 3,  7, 11, 15, 19])"
      ]
     },
     "execution_count": 10,
     "metadata": {},
     "output_type": "execute_result"
    }
   ],
   "source": [
    "import numpy as np\n",
    "#透過list建立ndArray\n",
    "\n",
    "a_array = np.array([1, 3, 5, 7, 9])\n",
    "a_array * 2\n",
    "\n",
    "b_array = np.array([2, 4, 6, 8, 10])\n",
    "\n",
    "a_array + b_array"
   ]
  },
  {
   "cell_type": "code",
   "execution_count": 11,
   "metadata": {},
   "outputs": [
    {
     "data": {
      "text/plain": [
       "[95, 83, 93, 74, 93]"
      ]
     },
     "execution_count": 11,
     "metadata": {},
     "output_type": "execute_result"
    }
   ],
   "source": [
    "#使用python建立5個亂數元素的list\n",
    "import random\n",
    "\n",
    "#list comprehension\n",
    "[random.randint(50,100) for _ in range(5)]"
   ]
  },
  {
   "cell_type": "code",
   "execution_count": 12,
   "metadata": {},
   "outputs": [
    {
     "data": {
      "text/plain": [
       "array([76, 57, 50, 75, 79])"
      ]
     },
     "execution_count": 12,
     "metadata": {},
     "output_type": "execute_result"
    }
   ],
   "source": [
    "#使用numpy random 建立亂數\n",
    "import numpy as np\n",
    "np.random.randint(50,high=100, size=5)"
   ]
  },
  {
   "cell_type": "code",
   "execution_count": 13,
   "metadata": {},
   "outputs": [
    {
     "data": {
      "text/plain": [
       "array([[85, 92, 92, 53, 92],\n",
       "       [84, 60, 68, 89, 86],\n",
       "       [83, 62, 94, 65, 70],\n",
       "       [85, 69, 75, 91, 71],\n",
       "       [72, 83, 75, 83, 86],\n",
       "       [88, 90, 88, 82, 75],\n",
       "       [82, 97, 87, 89, 99],\n",
       "       [96, 81, 70, 94, 68],\n",
       "       [55, 50, 97, 52, 70],\n",
       "       [90, 89, 60, 55, 83],\n",
       "       [85, 81, 92, 86, 60],\n",
       "       [96, 74, 65, 51, 73],\n",
       "       [55, 70, 64, 72, 60],\n",
       "       [89, 88, 59, 73, 74],\n",
       "       [72, 84, 68, 84, 64],\n",
       "       [53, 75, 86, 73, 50],\n",
       "       [64, 58, 76, 96, 71],\n",
       "       [64, 94, 56, 75, 54],\n",
       "       [87, 79, 70, 50, 90],\n",
       "       [58, 67, 52, 60, 96],\n",
       "       [56, 67, 84, 73, 74],\n",
       "       [57, 95, 94, 63, 71],\n",
       "       [95, 90, 72, 50, 56],\n",
       "       [85, 53, 87, 59, 51],\n",
       "       [62, 82, 78, 99, 54],\n",
       "       [71, 59, 95, 57, 82],\n",
       "       [53, 98, 74, 76, 88],\n",
       "       [83, 62, 65, 84, 80],\n",
       "       [87, 90, 66, 95, 52],\n",
       "       [71, 87, 81, 66, 82],\n",
       "       [76, 97, 72, 70, 60],\n",
       "       [85, 68, 70, 80, 50],\n",
       "       [95, 79, 80, 75, 99],\n",
       "       [71, 69, 84, 82, 56],\n",
       "       [98, 95, 85, 54, 70],\n",
       "       [84, 96, 54, 59, 83],\n",
       "       [91, 55, 60, 63, 88],\n",
       "       [58, 91, 56, 94, 98],\n",
       "       [70, 96, 78, 76, 67],\n",
       "       [78, 65, 95, 77, 70],\n",
       "       [59, 86, 73, 88, 91],\n",
       "       [58, 51, 83, 89, 91],\n",
       "       [67, 83, 98, 86, 58],\n",
       "       [60, 73, 56, 73, 71],\n",
       "       [56, 93, 56, 53, 79],\n",
       "       [87, 54, 54, 81, 61],\n",
       "       [76, 65, 73, 64, 68],\n",
       "       [93, 93, 88, 83, 88],\n",
       "       [53, 72, 54, 54, 96],\n",
       "       [55, 56, 87, 56, 90]])"
      ]
     },
     "execution_count": 13,
     "metadata": {},
     "output_type": "execute_result"
    }
   ],
   "source": [
    "import numpy as np\n",
    "np.random.randint(50,high=100, size=(50,5))"
   ]
  }
 ],
 "metadata": {
  "kernelspec": {
   "display_name": "Python 3",
   "language": "python",
   "name": "python3"
  },
  "language_info": {
   "codemirror_mode": {
    "name": "ipython",
    "version": 3
   },
   "file_extension": ".py",
   "mimetype": "text/x-python",
   "name": "python",
   "nbconvert_exporter": "python",
   "pygments_lexer": "ipython3",
   "version": "3.10.12"
  },
  "orig_nbformat": 4
 },
 "nbformat": 4,
 "nbformat_minor": 2
}
