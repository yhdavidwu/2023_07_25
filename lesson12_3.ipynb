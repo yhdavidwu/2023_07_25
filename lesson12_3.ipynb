{
 "cells": [
  {
   "cell_type": "code",
   "execution_count": null,
   "metadata": {},
   "outputs": [],
   "source": [
    "import csv\n",
    "with open('個股日成交資訊.csv',encoding='utf-8',newline='') as file:\n",
    "    csv_reader = csv.reader(file)\n",
    "    next(csv_reader)\n",
    "    all_list = []\n",
    "    for item in csv_reader:\n",
    "        all_list.append([item[0], item[1], item[2], item[3], item[7], item[8], item[9]])\n",
    "all_list"
   ]
  },
  {
   "cell_type": "code",
   "execution_count": null,
   "metadata": {},
   "outputs": [],
   "source": [
    "import csv\n",
    "with open('個股日成交資訊.csv',encoding='utf-8',newline='') as file:\n",
    "    csv_reader = csv.reader(file)\n",
    "    next(csv_reader)\n",
    "    #list comprehension\n",
    "    all_list = [[item[0], item[1], item[2], item[3], item[7], item[8], item[9]] for item in csv_reader]\n",
    "all_list"
   ]
  },
  {
   "cell_type": "code",
   "execution_count": null,
   "metadata": {},
   "outputs": [],
   "source": [
    "import csv\n",
    "with open('個股日成交資訊.csv',encoding='utf-8',newline='') as file:\n",
    "    csv_reader = csv.reader(file)\n",
    "    next(csv_reader)\n",
    "    #dictionary comprehension\n",
    "    all_list = [{'證券代號':item[0],\n",
    "                 '證券名稱':item[1],\n",
    "                 '成交股數':item[2],\n",
    "                 '成交金額':item[3],\n",
    "                 '收盤價':item[7],\n",
    "                 '漲跌價差':item[8],\n",
    "                 '成交筆數':item[9]} for item in csv_reader]\n",
    "all_list"
   ]
  },
  {
   "cell_type": "code",
   "execution_count": null,
   "metadata": {},
   "outputs": [],
   "source": [
    "import csv\n",
    "with open('個股日成交資訊.csv',encoding='utf-8',newline='') as file:\n",
    "    fields = ['證券代號','證券名稱','成交股數','成交金額','收盤價','漲跌價差','成交筆數']\n",
    "    csv_dictReader = csv.DictReader(file,fieldnames=fields,restkey=\"不要的\")  \n",
    "    head_row = next(csv_dictReader)  \n",
    "    for row in csv_dictReader:\n",
    "        print(row)"
   ]
  }
 ],
 "metadata": {
  "kernelspec": {
   "display_name": "Python 3",
   "language": "python",
   "name": "python3"
  },
  "language_info": {
   "codemirror_mode": {
    "name": "ipython",
    "version": 3
   },
   "file_extension": ".py",
   "mimetype": "text/x-python",
   "name": "python",
   "nbconvert_exporter": "python",
   "pygments_lexer": "ipython3",
   "version": "3.10.12"
  },
  "orig_nbformat": 4
 },
 "nbformat": 4,
 "nbformat_minor": 2
}
