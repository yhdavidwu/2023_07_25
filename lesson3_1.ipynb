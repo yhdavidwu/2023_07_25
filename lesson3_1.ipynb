{
 "cells": [
  {
   "cell_type": "code",
   "execution_count": 2,
   "metadata": {},
   "outputs": [
    {
     "name": "stdout",
     "output_type": "stream",
     "text": [
      "上底 15.6 下底 5.3 高 6.1\n",
      "梯形的面積: 63.74 平方公分\n",
      "梯形面積:63.74平方公分\n"
     ]
    }
   ],
   "source": [
    "#讓使用者輸入梯形的上底、下底及高，程式會計算梯形的面積\n",
    "top = float(input(\"請輸入梯形的上底(公分):\"))\n",
    "bottom = float(input(\"請輸入梯形的下底底(公分):\"))\n",
    "height = float(input(\"請輸入梯形的高(公分):\"))\n",
    "\n",
    "area = (top + bottom) * height / 2\n",
    "print(\"上底\",top, \"下底\",bottom,\"高\",height)\n",
    "print(\"梯形的面積:\", round(area,ndigits=2),\"平方公分\")\n",
    "print(f\"梯形面積:{area:.2f}平方公分\")"
   ]
  },
  {
   "cell_type": "code",
   "execution_count": 1,
   "metadata": {},
   "outputs": [
    {
     "name": "stdout",
     "output_type": "stream",
     "text": [
      "我有3個apple,5個orange,共有8水果\n"
     ]
    }
   ],
   "source": [
    "apple = 3\n",
    "orange = 5\n",
    "\n",
    "print(f\"我有{apple}個apple,{orange}個orange,共有{apple+orange}水果\")"
   ]
  },
  {
   "cell_type": "code",
   "execution_count": 5,
   "metadata": {},
   "outputs": [
    {
     "name": "stdout",
     "output_type": "stream",
     "text": [
      "對邊:2.5,斜邊:5,角度為:30.00\n"
     ]
    }
   ],
   "source": [
    "#高中數學\n",
    "import math\n",
    "side1 = eval((input(\"請輸入對邊:\")))\n",
    "side2 = eval((input(\"請輸入斜邊:\")))\n",
    "#弳度=asin(對/斜) 需打開math工具箱\n",
    "radian = math.asin(side1 / side2)\n",
    "degree = math.degrees(radian)\n",
    "\n",
    "print(f\"對邊:{side1},斜邊:{side2},角度為:{degree:.2f}\")\n",
    "\n"
   ]
  },
  {
   "cell_type": "code",
   "execution_count": 13,
   "metadata": {},
   "outputs": [
    {
     "data": {
      "text/plain": [
       "array([], dtype=int64)"
      ]
     },
     "execution_count": 13,
     "metadata": {},
     "output_type": "execute_result"
    }
   ],
   "source": [
    "#大學數學 internet套件: numpy, sympy --> 須先加入Codespaces\n",
    "#VS code 叫出終端機，pip list，upgrade pip。pip install numpy。\n",
    "import sympy\n",
    "import numpy\n",
    "\n",
    "numpy.arange(1000,dtype=int64)"
   ]
  },
  {
   "cell_type": "code",
   "execution_count": 12,
   "metadata": {},
   "outputs": [
    {
     "name": "stdout",
     "output_type": "stream",
     "text": [
      "15\n"
     ]
    }
   ],
   "source": [
    "n = 5\n",
    "n = n + 10\n",
    "print(n)"
   ]
  },
  {
   "cell_type": "code",
   "execution_count": 16,
   "metadata": {},
   "outputs": [
    {
     "name": "stdout",
     "output_type": "stream",
     "text": [
      "15\n",
      "150\n",
      "50.0\n"
     ]
    }
   ],
   "source": [
    "n = 5\n",
    "#複合指定運算子\n",
    "# +=,*=,/=,//=,%=,**=\n",
    "n += 10\n",
    "print(n)\n",
    "\n",
    "n *= 10\n",
    "print(n)\n",
    "\n",
    "n /= 3\n",
    "print(n)"
   ]
  }
 ],
 "metadata": {
  "kernelspec": {
   "display_name": "Python 3",
   "language": "python",
   "name": "python3"
  },
  "language_info": {
   "codemirror_mode": {
    "name": "ipython",
    "version": 3
   },
   "file_extension": ".py",
   "mimetype": "text/x-python",
   "name": "python",
   "nbconvert_exporter": "python",
   "pygments_lexer": "ipython3",
   "version": "3.10.12"
  },
  "orig_nbformat": 4
 },
 "nbformat": 4,
 "nbformat_minor": 2
}
