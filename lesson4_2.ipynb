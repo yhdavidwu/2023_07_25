{
 "cells": [
  {
   "cell_type": "code",
   "execution_count": 7,
   "metadata": {},
   "outputs": [
    {
     "name": "stdout",
     "output_type": "stream",
     "text": [
      "學生成績:98, 學生等級:優\n"
     ]
    }
   ],
   "source": [
    "# 90(含)~100分為 優\n",
    "# 80(含)~90分為 甲\n",
    "# 70(含)~80分為 乙\n",
    "# 60(含)~70分為 丙\n",
    "# 0(含)~59分為 丁\n",
    "\n",
    "try:\n",
    "    score = (int(input(\"請輸入學生分數(0~100分):\")))\n",
    "    if score >= 90 :\n",
    "        grade = \"優\"\n",
    "    else:\n",
    "        if score >= 80:\n",
    "            grade = \"甲\"\n",
    "        else:\n",
    "            if score >= 70:\n",
    "                grade = \"乙\"\n",
    "            else:\n",
    "                if score >= 60:\n",
    "                    grade = \"丙\"\n",
    "                else:\n",
    "                    grade = \"丁\"\n",
    "            \n",
    "    print(f\"學生成績:{score}, 學生等級:{grade}\")\n",
    "except:\n",
    "    print(\"輸入格式錯誤\")"
   ]
  },
  {
   "cell_type": "code",
   "execution_count": 11,
   "metadata": {},
   "outputs": [
    {
     "name": "stdout",
     "output_type": "stream",
     "text": [
      "學生成績:65, 學生等級:丙\n"
     ]
    }
   ],
   "source": [
    "try:\n",
    "    score = (int(input(\"請輸入學生分數(0~100分):\")))\n",
    "    #多項選擇\n",
    "    if score >= 90 :\n",
    "        grade = \"優\"\n",
    "    elif score >= 80:\n",
    "        grade = \"甲\"\n",
    "    elif score >= 70:\n",
    "        grade = \"乙\"\n",
    "    elif score >= 60:\n",
    "        grade = \"丙\"\n",
    "    else:\n",
    "        grade = \"丁\"\n",
    "            \n",
    "    print(f\"學生成績:{score}, 學生等級:{grade}\")\n",
    "except:\n",
    "    print(\"輸入格式錯誤\")"
   ]
  },
  {
   "cell_type": "code",
   "execution_count": 16,
   "metadata": {},
   "outputs": [
    {
     "name": "stdout",
     "output_type": "stream",
     "text": [
      "購買實際金額:9000, 實付金額:9000\n"
     ]
    }
   ],
   "source": [
    "#輸入顧客購買金額，若金額在\n",
    "#100000元打8折\n",
    "#50000元打85折\n",
    "#30000元打9折\n",
    "#10000元打95折\n",
    "\n",
    "money = int(input(\"請輸入購買金額:\"))\n",
    "payMoney = 0\n",
    "if(money>=100000):\n",
    "    payMoney = money * 0.8\n",
    "elif(money >= 50000):\n",
    "    payMoney = money *0.85\n",
    "elif(money >= 30000):\n",
    "    payMoney = money *0.9\n",
    "elif(money >= 10000):\n",
    "    payMoney = money *0.95\n",
    "else:\n",
    "    payMoney = money\n",
    "\n",
    "#實付金額無條件捨去 -- 用int()\n",
    "print(f\"購買實際金額:{money}, 實付金額:{int(payMoney)}\")"
   ]
  },
  {
   "cell_type": "code",
   "execution_count": 24,
   "metadata": {},
   "outputs": [
    {
     "name": "stdout",
     "output_type": "stream",
     "text": [
      "購買實際金額:35000, 實付金額:31500\n"
     ]
    }
   ],
   "source": [
    "#輸入顧客購買金額，若金額在\n",
    "#100000元打8折\n",
    "#50000元打85折\n",
    "#30000元打9折\n",
    "#10000元打95折\n",
    "\n",
    "money = int(input(\"請輸入購買金額:\"))\n",
    "payMoney = 0\n",
    "if(money<10000):\n",
    "    payMoney = money\n",
    "elif(money < 30000):\n",
    "    payMoney = money *0.95\n",
    "elif(money < 50000):\n",
    "    payMoney = money *0.9\n",
    "elif(money < 100000):\n",
    "    payMoney = money *0.85\n",
    "else:\n",
    "    payMoney = money *0.8\n",
    "\n",
    "#實付金額無條件捨去 -- 用int()\n",
    "print(f\"購買實際金額:{money}, 實付金額:{int(payMoney)}\")"
   ]
  },
  {
   "cell_type": "code",
   "execution_count": 41,
   "metadata": {},
   "outputs": [
    {
     "name": "stdout",
     "output_type": "stream",
     "text": [
      "年齡:56, 分級: 限制級\n"
     ]
    }
   ],
   "source": [
    "#限制級:18歲以上皆可欣賞。\n",
    "#輔導級:13(含) ~ 17歲以上皆可欣賞。\n",
    "#普遍級: 12(含)歲以下皆可欣賞。\n",
    "#如果沒有輸入年齡預設為普遍級。\n",
    "\n",
    "age = int(input(\"請輸入年齡:\"))\n",
    "rating = \"\"\n",
    "\n",
    "if age == \"\":\n",
    "    rating = \"普遍級\"\n",
    "elif age < 13:\n",
    "    rating = \"普遍級\"\n",
    "elif age < 17:\n",
    "    rating = \"輔導級\"\n",
    "else:\n",
    "    rating = \"限制級\"\n",
    "\n",
    "print(f\"年齡:{age}, 分級: {rating}\")"
   ]
  },
  {
   "cell_type": "code",
   "execution_count": 43,
   "metadata": {},
   "outputs": [
    {
     "name": "stdout",
     "output_type": "stream",
     "text": [
      "不加分\n"
     ]
    }
   ],
   "source": [
    "#邏輯判斷，ㄧ元運算子 and, or, not\n",
    "add = input(\"請問是否加分:(y,n)\")\n",
    "if not (add == 'n'):\n",
    "    print(\"加分\")\n",
    "else:\n",
    "    print(\"不加分\")"
   ]
  }
 ],
 "metadata": {
  "kernelspec": {
   "display_name": "Python 3",
   "language": "python",
   "name": "python3"
  },
  "language_info": {
   "codemirror_mode": {
    "name": "ipython",
    "version": 3
   },
   "file_extension": ".py",
   "mimetype": "text/x-python",
   "name": "python",
   "nbconvert_exporter": "python",
   "pygments_lexer": "ipython3",
   "version": "3.10.12"
  },
  "orig_nbformat": 4
 },
 "nbformat": 4,
 "nbformat_minor": 2
}
