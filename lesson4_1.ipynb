{
 "cells": [
  {
   "cell_type": "code",
   "execution_count": 16,
   "metadata": {},
   "outputs": [
    {
     "name": "stdout",
     "output_type": "stream",
     "text": [
      "a= 56\n",
      "您的age是\n",
      "大於18\n",
      "程式結束\n"
     ]
    }
   ],
   "source": [
    "a=56\n",
    "print(\"a=\",a)\n",
    "if a>18:\n",
    "    print(\"您的age是\")\n",
    "    print(\"大於18\")\n",
    "else :\n",
    "    print(\"您的age是\")\n",
    "    print(a)\n",
    "print(\"程式結束\")"
   ]
  },
  {
   "cell_type": "code",
   "execution_count": 22,
   "metadata": {},
   "outputs": [
    {
     "name": "stdout",
     "output_type": "stream",
     "text": [
      "學生原始分數:296, 可加分否:y\n",
      "學生分數是300\n"
     ]
    }
   ],
   "source": [
    "#學生總分為300\n",
    "#有些學生可以加5%\n",
    "#如果加分超過300，就以300分為準\n",
    "score = (int(input(\"請輸入學生分數(最高為300分):\")))\n",
    "is_add = input(\"學生是否可以加分條件?(y,n)\")\n",
    "\n",
    "print(f\"學生原始分數:{score}, 可加分否:{is_add}\")\n",
    "if(is_add == \"y\"):\n",
    "    score *= 1.05\n",
    "    if score > 300:\n",
    "        score = 300\n",
    "print(f\"學生分數是{round(score)}\")"
   ]
  }
 ],
 "metadata": {
  "kernelspec": {
   "display_name": "Python 3",
   "language": "python",
   "name": "python3"
  },
  "language_info": {
   "codemirror_mode": {
    "name": "ipython",
    "version": 3
   },
   "file_extension": ".py",
   "mimetype": "text/x-python",
   "name": "python",
   "nbconvert_exporter": "python",
   "pygments_lexer": "ipython3",
   "version": "3.10.12"
  },
  "orig_nbformat": 4
 },
 "nbformat": 4,
 "nbformat_minor": 2
}
