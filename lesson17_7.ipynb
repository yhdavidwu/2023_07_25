{
 "cells": [
  {
   "cell_type": "code",
   "execution_count": null,
   "metadata": {},
   "outputs": [],
   "source": [
    "import pandas as pd\n",
    "df = pd.read_csv('world.csv')\n",
    "allDataFrame = df[['洲名','國家','日期','總確診數','新增確診數','總人口數','解封指數']]\n",
    "taiwan = allDataFrame[allDataFrame[\"國家\"] == \"台灣\"]\n",
    "japan = allDataFrame[allDataFrame[\"國家\"] == \"日本\"]\n",
    "us = allDataFrame[allDataFrame[\"國家\"] == \"美國\"]\n",
    "us"
   ]
  },
  {
   "cell_type": "code",
   "execution_count": null,
   "metadata": {},
   "outputs": [],
   "source": [
    "#新增確診數大於5萬人的日期\n",
    "\n",
    "taiwan[taiwan[\"新增確診數\"] >= 50000]"
   ]
  },
  {
   "cell_type": "code",
   "execution_count": 12,
   "metadata": {},
   "outputs": [
    {
     "data": {
      "text/html": [
       "<div>\n",
       "<style scoped>\n",
       "    .dataframe tbody tr th:only-of-type {\n",
       "        vertical-align: middle;\n",
       "    }\n",
       "\n",
       "    .dataframe tbody tr th {\n",
       "        vertical-align: top;\n",
       "    }\n",
       "\n",
       "    .dataframe thead th {\n",
       "        text-align: right;\n",
       "    }\n",
       "</style>\n",
       "<table border=\"1\" class=\"dataframe\">\n",
       "  <thead>\n",
       "    <tr style=\"text-align: right;\">\n",
       "      <th></th>\n",
       "      <th>洲名</th>\n",
       "      <th>國家</th>\n",
       "      <th>日期</th>\n",
       "      <th>總確診數</th>\n",
       "      <th>新增確診數</th>\n",
       "      <th>總人口數</th>\n",
       "      <th>解封指數</th>\n",
       "    </tr>\n",
       "  </thead>\n",
       "  <tbody>\n",
       "    <tr>\n",
       "      <th>164835</th>\n",
       "      <td>亞洲</td>\n",
       "      <td>台灣</td>\n",
       "      <td>2022-05-14</td>\n",
       "      <td>699824</td>\n",
       "      <td>128954</td>\n",
       "      <td>23855008</td>\n",
       "      <td>46.24</td>\n",
       "    </tr>\n",
       "  </tbody>\n",
       "</table>\n",
       "</div>"
      ],
      "text/plain": [
       "        洲名  國家          日期    總確診數   新增確診數      總人口數   解封指數\n",
       "164835  亞洲  台灣  2022-05-14  699824  128954  23855008  46.24"
      ]
     },
     "execution_count": 12,
     "metadata": {},
     "output_type": "execute_result"
    }
   ],
   "source": [
    "#取出最多新增確診數\n",
    "max = taiwan[\"新增確診數\"].max()\n",
    "taiwan[taiwan['新增確診數'] == max]"
   ]
  },
  {
   "cell_type": "code",
   "execution_count": 15,
   "metadata": {},
   "outputs": [],
   "source": [
    "#query()\n",
    "\n",
    "japan1 = allDataFrame.query('國家==\"日本\"')\n"
   ]
  },
  {
   "cell_type": "code",
   "execution_count": 16,
   "metadata": {},
   "outputs": [
    {
     "data": {
      "text/html": [
       "<div>\n",
       "<style scoped>\n",
       "    .dataframe tbody tr th:only-of-type {\n",
       "        vertical-align: middle;\n",
       "    }\n",
       "\n",
       "    .dataframe tbody tr th {\n",
       "        vertical-align: top;\n",
       "    }\n",
       "\n",
       "    .dataframe thead th {\n",
       "        text-align: right;\n",
       "    }\n",
       "</style>\n",
       "<table border=\"1\" class=\"dataframe\">\n",
       "  <thead>\n",
       "    <tr style=\"text-align: right;\">\n",
       "      <th></th>\n",
       "      <th>洲名</th>\n",
       "      <th>國家</th>\n",
       "      <th>日期</th>\n",
       "      <th>總確診數</th>\n",
       "      <th>新增確診數</th>\n",
       "      <th>總人口數</th>\n",
       "      <th>解封指數</th>\n",
       "    </tr>\n",
       "  </thead>\n",
       "  <tbody>\n",
       "    <tr>\n",
       "      <th>86369</th>\n",
       "      <td>亞洲</td>\n",
       "      <td>日本</td>\n",
       "      <td>2022-02-03</td>\n",
       "      <td>3019169</td>\n",
       "      <td>104345</td>\n",
       "      <td>126050796</td>\n",
       "      <td>99999.0</td>\n",
       "    </tr>\n",
       "  </tbody>\n",
       "</table>\n",
       "</div>"
      ],
      "text/plain": [
       "       洲名  國家          日期     總確診數   新增確診數       總人口數     解封指數\n",
       "86369  亞洲  日本  2022-02-03  3019169  104345  126050796  99999.0"
      ]
     },
     "execution_count": 16,
     "metadata": {},
     "output_type": "execute_result"
    }
   ],
   "source": [
    "max = japan1[\"新增確診數\"].max()\n",
    "japan1[japan1['新增確診數'] == max]"
   ]
  }
 ],
 "metadata": {
  "kernelspec": {
   "display_name": "Python 3",
   "language": "python",
   "name": "python3"
  },
  "language_info": {
   "codemirror_mode": {
    "name": "ipython",
    "version": 3
   },
   "file_extension": ".py",
   "mimetype": "text/x-python",
   "name": "python",
   "nbconvert_exporter": "python",
   "pygments_lexer": "ipython3",
   "version": "3.10.12"
  },
  "orig_nbformat": 4
 },
 "nbformat": 4,
 "nbformat_minor": 2
}
