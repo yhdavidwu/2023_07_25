{
 "cells": [
  {
   "cell_type": "code",
   "execution_count": 9,
   "metadata": {},
   "outputs": [
    {
     "name": "stdout",
     "output_type": "stream",
     "text": [
      "體重:81.1公斤, 身高: 174.0公分\n",
      "您的BMI: 26.8，您的體重過重\n"
     ]
    }
   ],
   "source": [
    "#肥胖: 30 < BMI\n",
    "#過重: 25 < BMI <= 30\n",
    "#正常: 18.5 < BMI <= 25\n",
    "#過輕: BMI <= 18.5\n",
    "#BMI = 體重kg / ( 身高m / 100 ) ** 2\n",
    "\n",
    "weight = float(input(\"請輸入體重(kg):\"))\n",
    "height = float(input(\"請輸入身高(cm):\"))\n",
    "bmi = float(weight / ( height / 100 ) ** 2)\n",
    "level = \"\"\n",
    "\n",
    "if bmi > 30:\n",
    "    level = \"肥胖\"\n",
    "elif bmi > 25:\n",
    "    level = \"過重\"\n",
    "elif bmi > 18.5:\n",
    "    level = \"正常\"\n",
    "else:\n",
    "    level = \"過輕\"\n",
    "\n",
    "print(f\"體重:{weight}公斤, 身高: {height}公分\")\n",
    "print(f\"您的BMI: {bmi:.1f}，您的體重{level}\")"
   ]
  }
 ],
 "metadata": {
  "kernelspec": {
   "display_name": "Python 3",
   "language": "python",
   "name": "python3"
  },
  "language_info": {
   "codemirror_mode": {
    "name": "ipython",
    "version": 3
   },
   "file_extension": ".py",
   "mimetype": "text/x-python",
   "name": "python",
   "nbconvert_exporter": "python",
   "pygments_lexer": "ipython3",
   "version": "3.10.12"
  },
  "orig_nbformat": 4
 },
 "nbformat": 4,
 "nbformat_minor": 2
}
