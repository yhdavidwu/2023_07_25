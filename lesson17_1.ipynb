{
 "cells": [
  {
   "cell_type": "code",
   "execution_count": 2,
   "metadata": {},
   "outputs": [
    {
     "data": {
      "text/html": [
       "<div>\n",
       "<style scoped>\n",
       "    .dataframe tbody tr th:only-of-type {\n",
       "        vertical-align: middle;\n",
       "    }\n",
       "\n",
       "    .dataframe tbody tr th {\n",
       "        vertical-align: top;\n",
       "    }\n",
       "\n",
       "    .dataframe thead th {\n",
       "        text-align: right;\n",
       "    }\n",
       "</style>\n",
       "<table border=\"1\" class=\"dataframe\">\n",
       "  <thead>\n",
       "    <tr style=\"text-align: right;\">\n",
       "      <th></th>\n",
       "      <th>字串</th>\n",
       "      <th>整數</th>\n",
       "      <th>浮點數</th>\n",
       "    </tr>\n",
       "  </thead>\n",
       "  <tbody>\n",
       "    <tr>\n",
       "      <th>0</th>\n",
       "      <td>台北</td>\n",
       "      <td>1000</td>\n",
       "      <td>3.258</td>\n",
       "    </tr>\n",
       "    <tr>\n",
       "      <th>1</th>\n",
       "      <td>台中</td>\n",
       "      <td>3000</td>\n",
       "      <td>7.396</td>\n",
       "    </tr>\n",
       "  </tbody>\n",
       "</table>\n",
       "</div>"
      ],
      "text/plain": [
       "   字串    整數    浮點數\n",
       "0  台北  1000  3.258\n",
       "1  台中  3000  7.396"
      ]
     },
     "metadata": {},
     "output_type": "display_data"
    }
   ],
   "source": [
    "#以dictionary為主的資料結構\n",
    "\n",
    "import pandas as pd\n",
    "data = {\"字串\":[\"台北\",\"台中\"],\n",
    "        \"整數\":[1000,3000],\n",
    "        \"浮點數\":[3.258,7.396]}\n",
    "\n",
    "df = pd.DataFrame(data)\n",
    "display(df)"
   ]
  },
  {
   "cell_type": "code",
   "execution_count": 8,
   "metadata": {},
   "outputs": [
    {
     "data": {
      "text/html": [
       "<style type=\"text/css\">\n",
       "</style>\n",
       "<table id=\"T_c3e49\">\n",
       "  <thead>\n",
       "    <tr>\n",
       "      <th class=\"blank level0\" >&nbsp;</th>\n",
       "      <th id=\"T_c3e49_level0_col0\" class=\"col_heading level0 col0\" >字串</th>\n",
       "      <th id=\"T_c3e49_level0_col1\" class=\"col_heading level0 col1\" >整數</th>\n",
       "      <th id=\"T_c3e49_level0_col2\" class=\"col_heading level0 col2\" >浮點數</th>\n",
       "    </tr>\n",
       "  </thead>\n",
       "  <tbody>\n",
       "    <tr>\n",
       "      <th id=\"T_c3e49_level0_row0\" class=\"row_heading level0 row0\" >列1</th>\n",
       "      <td id=\"T_c3e49_row0_col0\" class=\"data row0 col0\" >台北</td>\n",
       "      <td id=\"T_c3e49_row0_col1\" class=\"data row0 col1\" >1,000</td>\n",
       "      <td id=\"T_c3e49_row0_col2\" class=\"data row0 col2\" >3.26</td>\n",
       "    </tr>\n",
       "    <tr>\n",
       "      <th id=\"T_c3e49_level0_row1\" class=\"row_heading level0 row1\" >列2</th>\n",
       "      <td id=\"T_c3e49_row1_col0\" class=\"data row1 col0\" >台中</td>\n",
       "      <td id=\"T_c3e49_row1_col1\" class=\"data row1 col1\" >3,000</td>\n",
       "      <td id=\"T_c3e49_row1_col2\" class=\"data row1 col2\" >7.40</td>\n",
       "    </tr>\n",
       "  </tbody>\n",
       "</table>\n"
      ],
      "text/plain": [
       "<pandas.io.formats.style.Styler at 0x7fd0dcc838e0>"
      ]
     },
     "execution_count": 8,
     "metadata": {},
     "output_type": "execute_result"
    }
   ],
   "source": [
    "#視覺美化, pandas.in.formats.style.Styler\n",
    "#pip intall jinja2\n",
    "df.style\\\n",
    ".format(precision=2,thousands=\",\",decimal=\".\")\\\n",
    ".relabel_index([\"列1\",\"列2\"])\n"
   ]
  },
  {
   "cell_type": "code",
   "execution_count": null,
   "metadata": {},
   "outputs": [],
   "source": [
    "import numpy as np\n",
    "data = np.random.rand(10,2) * 5\n",
    "df = pd.DataFrame(data,\n",
    "                  index = pd.date_range(start=\"2023-09-01\",periods=10),\n",
    "                  columns=[\"台北\",\"台中\"]\n",
    "                  )\n",
    "df"
   ]
  },
  {
   "cell_type": "code",
   "execution_count": null,
   "metadata": {},
   "outputs": [],
   "source": [
    "#視覺美化資料表, 查matplotlib cmap\n",
    "#github看不到\n",
    "def feel_condition(v):\n",
    "    if v < 1.75:\n",
    "        return \"溫暖\"\n",
    "    elif v < 2.75:\n",
    "        return \"潮溼\"\n",
    "    else:\n",
    "        return \"日照\"\n",
    "    \n",
    "df.style\\\n",
    ".format(feel_condition)\\\n",
    ".set_caption(\"體感溫度\")\\\n",
    ".background_gradient(cmap=\"PuBuGn\",vmin=1,vmax=5,axis=None)\n"
   ]
  },
  {
   "cell_type": "code",
   "execution_count": 19,
   "metadata": {},
   "outputs": [
    {
     "data": {
      "text/html": [
       "<style type=\"text/css\">\n",
       "</style>\n",
       "<table id=\"T_59744\">\n",
       "  <thead>\n",
       "    <tr>\n",
       "      <th class=\"blank level0\" >&nbsp;</th>\n",
       "      <th id=\"T_59744_level0_col0\" class=\"col_heading level0 col0\" >0</th>\n",
       "      <th id=\"T_59744_level0_col2\" class=\"col_heading level0 col2\" >2</th>\n",
       "      <th id=\"T_59744_level0_col4\" class=\"col_heading level0 col4\" >4</th>\n",
       "    </tr>\n",
       "  </thead>\n",
       "  <tbody>\n",
       "    <tr>\n",
       "      <th id=\"T_59744_level0_row1\" class=\"row_heading level0 row1\" >1</th>\n",
       "      <td id=\"T_59744_row1_col0\" class=\"data row1 col0\" >-0.215643</td>\n",
       "      <td id=\"T_59744_row1_col2\" class=\"data row1 col2\" >-0.949189</td>\n",
       "      <td id=\"T_59744_row1_col4\" class=\"data row1 col4\" >-0.901345</td>\n",
       "    </tr>\n",
       "    <tr>\n",
       "      <th id=\"T_59744_level0_row3\" class=\"row_heading level0 row3\" >3</th>\n",
       "      <td id=\"T_59744_row3_col0\" class=\"data row3 col0\" >0.390183</td>\n",
       "      <td id=\"T_59744_row3_col2\" class=\"data row3 col2\" >-1.406905</td>\n",
       "      <td id=\"T_59744_row3_col4\" class=\"data row3 col4\" >-2.593986</td>\n",
       "    </tr>\n",
       "  </tbody>\n",
       "</table>\n"
      ],
      "text/plain": [
       "<pandas.io.formats.style.Styler at 0x7fd0dcc83c10>"
      ]
     },
     "execution_count": 19,
     "metadata": {},
     "output_type": "execute_result"
    }
   ],
   "source": [
    "df = pd.DataFrame(np.random.randn(5,5))\n",
    "df.style\\\n",
    ".hide(subset=[0, 2, 4],axis=0)\\\n",
    ".hide(subset=[1,3],axis=1)"
   ]
  },
  {
   "cell_type": "code",
   "execution_count": 21,
   "metadata": {},
   "outputs": [
    {
     "data": {
      "text/html": [
       "<div>\n",
       "<style scoped>\n",
       "    .dataframe tbody tr th:only-of-type {\n",
       "        vertical-align: middle;\n",
       "    }\n",
       "\n",
       "    .dataframe tbody tr th {\n",
       "        vertical-align: top;\n",
       "    }\n",
       "\n",
       "    .dataframe thead th {\n",
       "        text-align: right;\n",
       "    }\n",
       "</style>\n",
       "<table border=\"1\" class=\"dataframe\">\n",
       "  <thead>\n",
       "    <tr style=\"text-align: right;\">\n",
       "      <th></th>\n",
       "      <th>0</th>\n",
       "      <th>1</th>\n",
       "      <th>2</th>\n",
       "      <th>3</th>\n",
       "      <th>4</th>\n",
       "    </tr>\n",
       "  </thead>\n",
       "  <tbody>\n",
       "    <tr>\n",
       "      <th>0</th>\n",
       "      <td>0.533048</td>\n",
       "      <td>1.650399</td>\n",
       "      <td>-0.360023</td>\n",
       "      <td>-0.828305</td>\n",
       "      <td>1.201061</td>\n",
       "    </tr>\n",
       "    <tr>\n",
       "      <th>1</th>\n",
       "      <td>-0.215643</td>\n",
       "      <td>0.930024</td>\n",
       "      <td>-0.949189</td>\n",
       "      <td>1.108573</td>\n",
       "      <td>-0.901345</td>\n",
       "    </tr>\n",
       "    <tr>\n",
       "      <th>2</th>\n",
       "      <td>0.217877</td>\n",
       "      <td>1.521226</td>\n",
       "      <td>-0.409645</td>\n",
       "      <td>0.172104</td>\n",
       "      <td>-1.033310</td>\n",
       "    </tr>\n",
       "    <tr>\n",
       "      <th>3</th>\n",
       "      <td>0.390183</td>\n",
       "      <td>-0.702437</td>\n",
       "      <td>-1.406905</td>\n",
       "      <td>1.005419</td>\n",
       "      <td>-2.593986</td>\n",
       "    </tr>\n",
       "    <tr>\n",
       "      <th>4</th>\n",
       "      <td>-0.646880</td>\n",
       "      <td>-0.113739</td>\n",
       "      <td>-0.301299</td>\n",
       "      <td>1.380194</td>\n",
       "      <td>-0.204001</td>\n",
       "    </tr>\n",
       "  </tbody>\n",
       "</table>\n",
       "</div>"
      ],
      "text/plain": [
       "          0         1         2         3         4\n",
       "0  0.533048  1.650399 -0.360023 -0.828305  1.201061\n",
       "1 -0.215643  0.930024 -0.949189  1.108573 -0.901345\n",
       "2  0.217877  1.521226 -0.409645  0.172104 -1.033310\n",
       "3  0.390183 -0.702437 -1.406905  1.005419 -2.593986\n",
       "4 -0.646880 -0.113739 -0.301299  1.380194 -0.204001"
      ]
     },
     "metadata": {},
     "output_type": "display_data"
    },
    {
     "data": {
      "text/html": [
       "<style type=\"text/css\">\n",
       "#T_3d5fd_row0_col2, #T_3d5fd_row0_col3, #T_3d5fd_row1_col0, #T_3d5fd_row1_col2, #T_3d5fd_row1_col4, #T_3d5fd_row2_col2, #T_3d5fd_row2_col4, #T_3d5fd_row3_col1, #T_3d5fd_row3_col2, #T_3d5fd_row3_col4, #T_3d5fd_row4_col0, #T_3d5fd_row4_col1, #T_3d5fd_row4_col2, #T_3d5fd_row4_col4 {\n",
       "  color: red;\n",
       "}\n",
       "</style>\n",
       "<table id=\"T_3d5fd\">\n",
       "  <thead>\n",
       "    <tr>\n",
       "      <th class=\"blank level0\" >&nbsp;</th>\n",
       "      <th id=\"T_3d5fd_level0_col0\" class=\"col_heading level0 col0\" >0</th>\n",
       "      <th id=\"T_3d5fd_level0_col1\" class=\"col_heading level0 col1\" >1</th>\n",
       "      <th id=\"T_3d5fd_level0_col2\" class=\"col_heading level0 col2\" >2</th>\n",
       "      <th id=\"T_3d5fd_level0_col3\" class=\"col_heading level0 col3\" >3</th>\n",
       "      <th id=\"T_3d5fd_level0_col4\" class=\"col_heading level0 col4\" >4</th>\n",
       "    </tr>\n",
       "  </thead>\n",
       "  <tbody>\n",
       "    <tr>\n",
       "      <th id=\"T_3d5fd_level0_row0\" class=\"row_heading level0 row0\" >0</th>\n",
       "      <td id=\"T_3d5fd_row0_col0\" class=\"data row0 col0\" >0.533048</td>\n",
       "      <td id=\"T_3d5fd_row0_col1\" class=\"data row0 col1\" >1.650399</td>\n",
       "      <td id=\"T_3d5fd_row0_col2\" class=\"data row0 col2\" >-0.360023</td>\n",
       "      <td id=\"T_3d5fd_row0_col3\" class=\"data row0 col3\" >-0.828305</td>\n",
       "      <td id=\"T_3d5fd_row0_col4\" class=\"data row0 col4\" >1.201061</td>\n",
       "    </tr>\n",
       "    <tr>\n",
       "      <th id=\"T_3d5fd_level0_row1\" class=\"row_heading level0 row1\" >1</th>\n",
       "      <td id=\"T_3d5fd_row1_col0\" class=\"data row1 col0\" >-0.215643</td>\n",
       "      <td id=\"T_3d5fd_row1_col1\" class=\"data row1 col1\" >0.930024</td>\n",
       "      <td id=\"T_3d5fd_row1_col2\" class=\"data row1 col2\" >-0.949189</td>\n",
       "      <td id=\"T_3d5fd_row1_col3\" class=\"data row1 col3\" >1.108573</td>\n",
       "      <td id=\"T_3d5fd_row1_col4\" class=\"data row1 col4\" >-0.901345</td>\n",
       "    </tr>\n",
       "    <tr>\n",
       "      <th id=\"T_3d5fd_level0_row2\" class=\"row_heading level0 row2\" >2</th>\n",
       "      <td id=\"T_3d5fd_row2_col0\" class=\"data row2 col0\" >0.217877</td>\n",
       "      <td id=\"T_3d5fd_row2_col1\" class=\"data row2 col1\" >1.521226</td>\n",
       "      <td id=\"T_3d5fd_row2_col2\" class=\"data row2 col2\" >-0.409645</td>\n",
       "      <td id=\"T_3d5fd_row2_col3\" class=\"data row2 col3\" >0.172104</td>\n",
       "      <td id=\"T_3d5fd_row2_col4\" class=\"data row2 col4\" >-1.033310</td>\n",
       "    </tr>\n",
       "    <tr>\n",
       "      <th id=\"T_3d5fd_level0_row3\" class=\"row_heading level0 row3\" >3</th>\n",
       "      <td id=\"T_3d5fd_row3_col0\" class=\"data row3 col0\" >0.390183</td>\n",
       "      <td id=\"T_3d5fd_row3_col1\" class=\"data row3 col1\" >-0.702437</td>\n",
       "      <td id=\"T_3d5fd_row3_col2\" class=\"data row3 col2\" >-1.406905</td>\n",
       "      <td id=\"T_3d5fd_row3_col3\" class=\"data row3 col3\" >1.005419</td>\n",
       "      <td id=\"T_3d5fd_row3_col4\" class=\"data row3 col4\" >-2.593986</td>\n",
       "    </tr>\n",
       "    <tr>\n",
       "      <th id=\"T_3d5fd_level0_row4\" class=\"row_heading level0 row4\" >4</th>\n",
       "      <td id=\"T_3d5fd_row4_col0\" class=\"data row4 col0\" >-0.646880</td>\n",
       "      <td id=\"T_3d5fd_row4_col1\" class=\"data row4 col1\" >-0.113739</td>\n",
       "      <td id=\"T_3d5fd_row4_col2\" class=\"data row4 col2\" >-0.301299</td>\n",
       "      <td id=\"T_3d5fd_row4_col3\" class=\"data row4 col3\" >1.380194</td>\n",
       "      <td id=\"T_3d5fd_row4_col4\" class=\"data row4 col4\" >-0.204001</td>\n",
       "    </tr>\n",
       "  </tbody>\n",
       "</table>\n"
      ],
      "text/plain": [
       "<pandas.io.formats.style.Styler at 0x7fd10b1886a0>"
      ]
     },
     "execution_count": 21,
     "metadata": {},
     "output_type": "execute_result"
    }
   ],
   "source": [
    "pd.DataFrame(np.random.rand(10,4),\n",
    "             columns=[\"A\",\"B\",\"C\",\"D\"])\n",
    "display(df)\n",
    "\n",
    "def style_negative(v, props=''):\n",
    "    return props if v < 0 else None\n",
    "\n",
    "df.style\\\n",
    ".map(style_negative, props='color:red;') #css語法"
   ]
  }
 ],
 "metadata": {
  "kernelspec": {
   "display_name": "Python 3",
   "language": "python",
   "name": "python3"
  },
  "language_info": {
   "codemirror_mode": {
    "name": "ipython",
    "version": 3
   },
   "file_extension": ".py",
   "mimetype": "text/x-python",
   "name": "python",
   "nbconvert_exporter": "python",
   "pygments_lexer": "ipython3",
   "version": "3.10.12"
  },
  "orig_nbformat": 4
 },
 "nbformat": 4,
 "nbformat_minor": 2
}
