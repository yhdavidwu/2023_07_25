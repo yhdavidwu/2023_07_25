{
 "cells": [
  {
   "cell_type": "code",
   "execution_count": 9,
   "metadata": {},
   "outputs": [
    {
     "name": "stdout",
     "output_type": "stream",
     "text": [
      "國文得分:56，數學得分:100，獎金:500\n"
     ]
    }
   ],
   "source": [
    "chinese = int(input(\"請輸入國文分數:\"))\n",
    "math = int(input(\"請輸入數學分數:\"))\n",
    "#巢狀判斷\n",
    "bonus = 0\n",
    "if chinese == 100:\n",
    "    if math == 100:\n",
    "        bonus = 1000\n",
    "    else:\n",
    "        bonus = 500\n",
    "elif math == 100:\n",
    "    bonus = 500\n",
    "\n",
    "print(f\"國文得分:{chinese}，數學得分:{math}，獎金:{bonus}\")\n",
    "    "
   ]
  },
  {
   "cell_type": "code",
   "execution_count": 14,
   "metadata": {},
   "outputs": [
    {
     "name": "stdout",
     "output_type": "stream",
     "text": [
      "國文得分:98，數學得分:98，獎金:0\n"
     ]
    }
   ],
   "source": [
    "chinese = int(input(\"請輸入國文分數:\"))\n",
    "math = int(input(\"請輸入數學分數:\"))\n",
    "#邏輯運算子\n",
    "bonus = 0\n",
    "\n",
    "if chinese == 100 and math == 100:\n",
    "    bonus = 1000\n",
    "elif chinese == 100 or math == 100:\n",
    "    bonus = 500\n",
    "\n",
    "print(f\"國文得分:{chinese}，數學得分:{math}，獎金:{bonus}\")"
   ]
  },
  {
   "cell_type": "code",
   "execution_count": 21,
   "metadata": {},
   "outputs": [
    {
     "name": "stdout",
     "output_type": "stream",
     "text": [
      "血壓:122，血壓值不正常\n"
     ]
    }
   ],
   "source": [
    "presure = int(input(\"請輸入血壓值\"))\n",
    "if presure >= 80 and presure <= 120:\n",
    "    print(f\"血壓:{presure}，血壓值正常\")\n",
    "else:\n",
    "    print(f\"血壓:{presure}，血壓值不正常\")"
   ]
  },
  {
   "cell_type": "code",
   "execution_count": 25,
   "metadata": {},
   "outputs": [
    {
     "name": "stdout",
     "output_type": "stream",
     "text": [
      "血壓:80，血壓值正常\n"
     ]
    }
   ],
   "source": [
    "presure = int(input(\"請輸入血壓值\"))\n",
    "if presure < 80 or presure > 120:\n",
    "    print(f\"血壓:{presure}，血壓值不正常\")\n",
    "else:\n",
    "    print(f\"血壓:{presure}，血壓值正常\")"
   ]
  },
  {
   "cell_type": "code",
   "execution_count": 33,
   "metadata": {},
   "outputs": [
    {
     "name": "stdout",
     "output_type": "stream",
     "text": [
      "體重:79.0公斤, 身高: 150.0公分\n",
      "您的BMI: 35.11，提示:重度肥胖\n",
      "您的BMI: 35.111，提示: 重度肥胖\n"
     ]
    }
   ],
   "source": [
    "#BMI計算後分析\n",
    "weight = float(input(\"請輸入體重(kg):\"))\n",
    "height = float(input(\"請輸入身高(cm):\"))\n",
    "bmi = weight / ( height / 100 ) ** 2\n",
    "suggest = \"\"\n",
    "\n",
    "if bmi >= 35:\n",
    "    suggest = \"重度肥胖\"\n",
    "elif bmi >= 30:\n",
    "    suggest = \"中度肥胖\"\n",
    "elif bmi >= 27:\n",
    "    suggest = \"輕度肥胖\"\n",
    "elif bmi >= 24:\n",
    "    suggest = \"過重\"\n",
    "else:\n",
    "    suggest = \"正常\"\n",
    "\n",
    "print(f\"體重:{weight}公斤, 身高: {height}公分\")\n",
    "print(f\"您的BMI: {bmi:.2f}，提示: {suggest}\")\n",
    "print(f\"您的BMI: {round(bmi,ndigits=3)}，提示: {suggest}\")"
   ]
  }
 ],
 "metadata": {
  "kernelspec": {
   "display_name": "Python 3",
   "language": "python",
   "name": "python3"
  },
  "language_info": {
   "codemirror_mode": {
    "name": "ipython",
    "version": 3
   },
   "file_extension": ".py",
   "mimetype": "text/x-python",
   "name": "python",
   "nbconvert_exporter": "python",
   "pygments_lexer": "ipython3",
   "version": "3.10.12"
  },
  "orig_nbformat": 4
 },
 "nbformat": 4,
 "nbformat_minor": 2
}
