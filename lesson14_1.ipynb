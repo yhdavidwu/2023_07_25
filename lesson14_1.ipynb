{
 "cells": [
  {
   "cell_type": "code",
   "execution_count": 1,
   "metadata": {},
   "outputs": [
    {
     "name": "stdout",
     "output_type": "stream",
     "text": [
      "下載成功\n"
     ]
    }
   ],
   "source": [
    "import requests\n",
    "\n",
    "url = 'https://opendata.cwb.gov.tw/fileapi/v1/opendataapi/F-C0032-001?Authorization=rdec-key-123-45678-011121314&format=JSON'\n",
    "r = requests.get(url)\n",
    "#type (r)\n",
    "if r.status_code == 200:\n",
    "    print(\"下載成功\")"
   ]
  },
  {
   "cell_type": "code",
   "execution_count": null,
   "metadata": {},
   "outputs": [],
   "source": [
    "#str 非python 的資料結構\n",
    "#要將str(json結構) 轉為 python 的資料結構\n",
    "print(r.text)"
   ]
  },
  {
   "cell_type": "code",
   "execution_count": null,
   "metadata": {},
   "outputs": [],
   "source": [
    "print(type(r.json()))\n",
    "all_json = r.json()\n",
    "#all_json['cwbopendata']['sent']\n",
    "#all_json['cwbopendata']['dataset']\n",
    "locations = all_json['cwbopendata']['dataset']['location']\n",
    "weather_list = []\n",
    "for item in locations:\n",
    "    city_item = {} #一定要先宣告\n",
    "    city_item['城市'] = item['locationName']\n",
    "    city_item['啟始時間'] = item['weatherElement'][1]['time'][0]['startTime']\n",
    "    city_item['結束時間'] = item['weatherElement'][1]['time'][0]['endTime']\n",
    "    city_item['最高溫度'] = float(item['weatherElement'][1]['time'][0]['parameter']['parameterName'])\n",
    "    city_item['最低溫度'] = float(item['weatherElement'][2]['time'][0]['parameter']['parameterName'])\n",
    "    city_item['感覺'] = item['weatherElement'][3]['time'][0]['parameter']['parameterName']\n",
    "    weather_list.append(city_item)\n",
    "weather_list\n",
    "    #print(item['locationName'])\n"
   ]
  },
  {
   "cell_type": "code",
   "execution_count": 21,
   "metadata": {},
   "outputs": [
    {
     "name": "stdout",
     "output_type": "stream",
     "text": [
      "存檔成功\n"
     ]
    }
   ],
   "source": [
    "import csv\n",
    "with open('目前各縣市天氣預測.csv',mode='w',encoding='utf-8',newline=\"\") as file:\n",
    "    writer = csv.DictWriter(file,fieldnames=['城市','啟始時間','結束時間','最高溫度','最低溫度','感覺'])\n",
    "    writer.writeheader()\n",
    "    writer.writerows(weather_list)\n",
    "print('存檔成功')\n",
    "\n"
   ]
  }
 ],
 "metadata": {
  "kernelspec": {
   "display_name": "Python 3",
   "language": "python",
   "name": "python3"
  },
  "language_info": {
   "codemirror_mode": {
    "name": "ipython",
    "version": 3
   },
   "file_extension": ".py",
   "mimetype": "text/x-python",
   "name": "python",
   "nbconvert_exporter": "python",
   "pygments_lexer": "ipython3",
   "version": "3.10.12"
  },
  "orig_nbformat": 4
 },
 "nbformat": 4,
 "nbformat_minor": 2
}
